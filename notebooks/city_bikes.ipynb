{
 "cells": [
  {
   "cell_type": "markdown",
   "metadata": {},
   "source": [
    "# CityBikes"
   ]
  },
  {
   "cell_type": "markdown",
   "metadata": {},
   "source": [
    "Send a request to CityBikes for the city of your choice. "
   ]
  },
  {
   "cell_type": "code",
   "execution_count": 15,
   "metadata": {},
   "outputs": [
    {
     "name": "stdout",
     "output_type": "stream",
     "text": [
      "Found Leeds network: beryl-leeds\n"
     ]
    }
   ],
   "source": [
    "#1. Explore the structure of the API, query the API and understand the data returned. \n",
    "\n",
    "import requests\n",
    "\n",
    "url = \"http://api.citybik.es/v2/networks\"\n",
    "\n",
    "response = requests.get(url)\n",
    "networks = response.json()\n",
    "\n",
    "#Finding the selected city's network ID:\n",
    "\n",
    "for network in networks[\"networks\"]:\n",
    "    if \"Leeds\" in network[\"location\"][\"city\"]:\n",
    "        leeds_network_id = network[\"id\"]\n",
    "        print(f\"Found Leeds network: {leeds_network_id}\")\n",
    "\n"
   ]
  },
  {
   "cell_type": "markdown",
   "metadata": {},
   "source": [
    "Parse through the response to get the details you want for the bike stations in that city (latitude, longitude, number of bikes). "
   ]
  },
  {
   "cell_type": "code",
   "execution_count": 17,
   "metadata": {},
   "outputs": [
    {
     "name": "stdout",
     "output_type": "stream",
     "text": [
      "Station: Barrack Street, Availabale Bikes: 2, Latitiude: 53.809275, Longitude: -1.538301\n",
      "Station: Carlton Hill, Availabale Bikes: 2, Latitiude: 53.808573, Longitude: -1.54171\n",
      "Station: Portland Crescent, Availabale Bikes: 3, Latitiude: 53.803009, Longitude: -1.546513\n",
      "Station: New York St/York St, Availabale Bikes: 5, Latitiude: 53.796468, Longitude: -1.537111\n",
      "Station: Leeds Arena, Availabale Bikes: 1, Latitiude: 53.803793, Longitude: -1.543808\n",
      "Station: St Peter's Place, Availabale Bikes: 4, Latitiude: 53.797163, Longitude: -1.532786\n",
      "Station: Holborn Approach, Availabale Bikes: 4, Latitiude: 53.813295, Longitude: -1.551715\n",
      "Station: Kirkgate/New York St, Availabale Bikes: 0, Latitiude: 53.796437, Longitude: -1.539133\n",
      "Station: Westfield Road, Availabale Bikes: 4, Latitiude: 53.801608, Longitude: -1.563769\n",
      "Station: Waterloo Street, Availabale Bikes: 12, Latitiude: 53.792991, Longitude: -1.539206\n",
      "Station: Temp Event Leeds, Availabale Bikes: 0, Latitiude: 53.800111, Longitude: -1.547192\n",
      "Station: Meadow Lane, Availabale Bikes: 2, Latitiude: 53.792406, Longitude: -1.542654\n",
      "Station: Woodhouse Moor North, Availabale Bikes: 4, Latitiude: 53.814274, Longitude: -1.561378\n",
      "Station: Town Hall, Availabale Bikes: 0, Latitiude: 53.799708, Longitude: -1.549986\n",
      "Station: Park Square South, Availabale Bikes: 0, Latitiude: 53.798695, Longitude: -1.552749\n",
      "Station: Westgate/Park Sq, Availabale Bikes: 0, Latitiude: 53.799488, Longitude: -1.552656\n",
      "Station: Leeds Minster, Availabale Bikes: 2, Latitiude: 53.795528, Longitude: -1.534271\n",
      "Station: Shire Oak Road, Availabale Bikes: 8, Latitiude: 53.819993, Longitude: -1.57636\n",
      "Station: Swinegate, Availabale Bikes: 2, Latitiude: 53.7941, Longitude: -1.543125\n",
      "Station: Merrion House, Availabale Bikes: 4, Latitiude: 53.802844, Longitude: -1.54549\n",
      "Station: Portland Street, Availabale Bikes: 3, Latitiude: 53.801092, Longitude: -1.550905\n",
      "Station: Infirmary Street, Availabale Bikes: 3, Latitiude: 53.797849, Longitude: -1.548942\n",
      "Station: St Annes Street, Availabale Bikes: 4, Latitiude: 53.80032, Longitude: -1.545195\n",
      "Station: George St/Dyer St, Availabale Bikes: 2, Latitiude: 53.797839, Longitude: -1.53647\n",
      "Station: Crown Point Road, Availabale Bikes: 5, Latitiude: 53.791243, Longitude: -1.538716\n",
      "Station: North Street, Availabale Bikes: 0, Latitiude: 53.801323, Longitude: -1.539106\n",
      "Station: Victoria Gate, Availabale Bikes: 1, Latitiude: 53.798597, Longitude: -1.53671\n",
      "Station: City Sq/Park Row, Availabale Bikes: 13, Latitiude: 53.796545, Longitude: -1.547035\n",
      "Station: City College, Availabale Bikes: 4, Latitiude: 53.789769, Longitude: -1.537523\n",
      "Station: The Parkinson Building, Availabale Bikes: 6, Latitiude: 53.807496, Longitude: -1.552146\n",
      "Station: Spring Road, Availabale Bikes: 1, Latitiude: 53.816953, Longitude: -1.577169\n",
      "Station: Cardigan Fields, Availabale Bikes: 8, Latitiude: 53.805772, Longitude: -1.582407\n",
      "Station: Kirkstall Leisure Centre, Availabale Bikes: 4, Latitiude: 53.816022, Longitude: -1.601791\n",
      "Station: Leeds Beckett Students Union, Availabale Bikes: 1, Latitiude: 53.82733, Longitude: -1.591589\n",
      "Station: Leeds City College - Printworks, Availabale Bikes: 2, Latitiude: 53.789337, Longitude: -1.537598\n",
      "Station: Carnegie Building, Availabale Bikes: 2, Latitiude: 53.827941, Longitude: -1.593998\n",
      "Station: Converse Column, Availabale Bikes: 2, Latitiude: 53.805196, Longitude: -1.549103\n",
      "Station: Central Village I, Availabale Bikes: 0, Latitiude: 53.804793, Longitude: -1.548765\n",
      "Station: The Edge Sports Centre, Availabale Bikes: 4, Latitiude: 53.804341, Longitude: -1.551686\n",
      "Station: Roger Stephens Entrance, Availabale Bikes: 2, Latitiude: 53.805149, Longitude: -1.554792\n",
      "Station: Central Village II, Availabale Bikes: 0, Latitiude: 53.803985, Longitude: -1.549647\n",
      "Station: Depot Test Bay, Availabale Bikes: 0, Latitiude: 53.780104, Longitude: -1.576042\n",
      "Station: Victoria Road, Availabale Bikes: 1, Latitiude: 53.814804, Longitude: -1.566911\n",
      "Station: Norwood Terrace, Availabale Bikes: 1, Latitiude: 53.814276, Longitude: -1.575062\n",
      "Station: Pearson Sound, Availabale Bikes: 2, Latitiude: 53.811812, Longitude: -1.570613\n",
      "Station: Leopold Street, Availabale Bikes: 3, Latitiude: 53.812608, Longitude: -1.533964\n",
      "Station: Scott Hall Grove, Availabale Bikes: 1, Latitiude: 53.822054, Longitude: -1.543612\n",
      "Station: Spencer Place, Availabale Bikes: 3, Latitiude: 53.81132, Longitude: -1.525756\n",
      "Station: Chapel Allerton Centre, Availabale Bikes: 2, Latitiude: 53.829229, Longitude: -1.538287\n",
      "Station: Brudenell Mount, Availabale Bikes: 4, Latitiude: 53.812363, Longitude: -1.568583\n",
      "Station: Norwood Gr/Welton Rd, Availabale Bikes: 3, Latitiude: 53.81312, Longitude: -1.572689\n",
      "Station: Grove Ln/Meanwood Rd, Availabale Bikes: 6, Latitiude: 53.824435, Longitude: -1.563708\n",
      "Station: York Rd/Walford Ave, Availabale Bikes: 3, Latitiude: 53.798032, Longitude: -1.512785\n",
      "Station: Everleigh Street, Availabale Bikes: 1, Latitiude: 53.797392, Longitude: -1.514805\n",
      "Station: Cross Green Lane, Availabale Bikes: 4, Latitiude: 53.788102, Longitude: -1.517978\n",
      "Station: Easy Rd/Cross Green Ln, Availabale Bikes: 4, Latitiude: 53.789825, Longitude: -1.52323\n",
      "Station: Brewery Wharf, Availabale Bikes: 1, Latitiude: 53.79298, Longitude: -1.535996\n",
      "Station: Stainbeck Ave, Availabale Bikes: 2, Latitiude: 53.827147, Longitude: -1.560994\n",
      "Station: Stainbeck Rd/Stainbeck Ln, Availabale Bikes: 2, Latitiude: 53.831125, Longitude: -1.554845\n",
      "Station: Stonegate Rd/Parkland Cres, Availabale Bikes: 3, Latitiude: 53.837225, Longitude: -1.554645\n",
      "Station: Shepherds Lane, Availabale Bikes: 3, Latitiude: 53.81652, Longitude: -1.524252\n",
      "Station: Grange View, Availabale Bikes: 2, Latitiude: 53.816995, Longitude: -1.531142\n",
      "Station: Hyde Terrace, Availabale Bikes: 7, Latitiude: 53.804607, Longitude: -1.560885\n",
      "Station: Allerton Grove, Availabale Bikes: 4, Latitiude: 53.843741, Longitude: -1.533572\n",
      "Station: Potternewton Lane, Availabale Bikes: 0, Latitiude: 53.825103, Longitude: -1.546663\n",
      "Station: Falkland Mount, Availabale Bikes: 2, Latitiude: 53.838314, Longitude: -1.538311\n",
      "Station: City Sq/Leeds Stn, Availabale Bikes: 8, Latitiude: 53.796158, Longitude: -1.548617\n",
      "Station: The Calls, Availabale Bikes: 0, Latitiude: 53.794904, Longitude: -1.538713\n",
      "Station: St Peter's Buildings, Availabale Bikes: 0, Latitiude: 53.796862, Longitude: -1.534132\n",
      "Station: Shakespeare Gardens, Availabale Bikes: 2, Latitiude: 53.804109, Longitude: -1.518387\n",
      "Station: Marshall Street, Availabale Bikes: 6, Latitiude: 53.788968, Longitude: -1.552201\n",
      "Station: Gryphon Sports Center, Availabale Bikes: 4, Latitiude: 53.807198, Longitude: -1.563328\n",
      "Station: Whitehall Road, Availabale Bikes: 3, Latitiude: 53.79166, Longitude: -1.562981\n",
      "Station: Manor Road, Availabale Bikes: 3, Latitiude: 53.789997, Longitude: -1.548007\n",
      "Station: Beeston Rd/Moorville Gr, Availabale Bikes: 2, Latitiude: 53.782055, Longitude: -1.552254\n",
      "Station: Elland Road, Availabale Bikes: 6, Latitiude: 53.779186, Longitude: -1.5712\n",
      "Station: Queen's Road, Availabale Bikes: 2, Latitiude: 53.809876, Longitude: -1.56984\n",
      "Station: Hunslet Library, Availabale Bikes: 2, Latitiude: 53.779555, Longitude: -1.527835\n",
      "Station: Globe Point, Availabale Bikes: 4, Latitiude: 53.79192, Longitude: -1.552032\n",
      "Station: Woodhouse Ln/Raglan Rd, Availabale Bikes: 1, Latitiude: 53.811194, Longitude: -1.556313\n"
     ]
    }
   ],
   "source": [
    "#2. Choose a city covered by the CityBikes API and retrieve all available bike stations in that city. \n",
    "\n",
    "url_stations = f\"http://api.citybik.es/v2/networks/beryl-leeds\"\n",
    "\n",
    "\n",
    "\n",
    "response_stations = requests.get(url_stations)\n",
    "stations_data = response_stations.json()\n",
    "\n",
    "#3. For each bike station, use the API to call the latitude, longitude and number of bikes. \n",
    "\n",
    "stations = stations_data[\"network\"][\"stations\"]\n",
    "for station in stations:\n",
    "    print(f\"Station: {station['name']}, Availabale Bikes: {station['free_bikes']}, Latitiude: {station['latitude']}, Longitude: {station['longitude']}\")"
   ]
  },
  {
   "cell_type": "markdown",
   "metadata": {},
   "source": [
    "Put your parsed results into a DataFrame."
   ]
  },
  {
   "cell_type": "code",
   "execution_count": 19,
   "metadata": {},
   "outputs": [
    {
     "name": "stdout",
     "output_type": "stream",
     "text": [
      "              Station Name  Available Bikes   Latitude  Longitude\n",
      "0           Barrack Street                2  53.809275  -1.538301\n",
      "1             Carlton Hill                2  53.808573  -1.541710\n",
      "2        Portland Crescent                3  53.803009  -1.546513\n",
      "3      New York St/York St                5  53.796468  -1.537111\n",
      "4              Leeds Arena                1  53.803793  -1.543808\n",
      "..                     ...              ...        ...        ...\n",
      "75             Elland Road                6  53.779186  -1.571200\n",
      "76            Queen's Road                2  53.809876  -1.569840\n",
      "77         Hunslet Library                2  53.779555  -1.527835\n",
      "78             Globe Point                4  53.791920  -1.552032\n",
      "79  Woodhouse Ln/Raglan Rd                1  53.811194  -1.556313\n",
      "\n",
      "[80 rows x 4 columns]\n"
     ]
    }
   ],
   "source": [
    "#4. Parse the JSON object into a Pandas dataframe. \n",
    "import pandas as pd\n",
    "\n",
    "df = pd.json_normalize(stations)\n",
    "\n",
    "df = df[[\"name\", \"free_bikes\", \"latitude\", \"longitude\"]]\n",
    "df.columns = [\"Station Name\", \"Available Bikes\", \"Latitude\", \"Longitude\"]\n",
    "print(df)\n",
    "\n",
    "# I will save this dataframe and use it in the next section\n",
    "\n",
    "df.to_csv('data.csv', index=False)\n"
   ]
  }
 ],
 "metadata": {
  "kernelspec": {
   "display_name": "base",
   "language": "python",
   "name": "python3"
  },
  "language_info": {
   "codemirror_mode": {
    "name": "ipython",
    "version": 3
   },
   "file_extension": ".py",
   "mimetype": "text/x-python",
   "name": "python",
   "nbconvert_exporter": "python",
   "pygments_lexer": "ipython3",
   "version": "3.11.7"
  }
 },
 "nbformat": 4,
 "nbformat_minor": 4
}
