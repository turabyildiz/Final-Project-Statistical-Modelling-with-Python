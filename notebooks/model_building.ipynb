{
 "cells": [
  {
   "cell_type": "markdown",
   "metadata": {},
   "source": [
    "Build a regression model."
   ]
  },
  {
   "cell_type": "code",
   "execution_count": 65,
   "metadata": {},
   "outputs": [
    {
     "name": "stdout",
     "output_type": "stream",
     "text": [
      "Intercept: 2.714285714285715\n",
      "Coefficients: [-1.35714286 -1.35714286  0.39285714  0.99285714 -1.35714286 -1.35714286\n",
      "  0.69285714  0.54285714  0.74285714  0.38571429  0.79285714 -1.35714286\n",
      "  0.99285714 -1.35714286 -1.35714286  0.39285714  0.54285714  0.88571429\n",
      "  0.79285714  0.74285714  0.69285714 -1.35714286]\n"
     ]
    }
   ],
   "source": [
    "\n",
    "import pandas as pd\n",
    "import numpy as np\n",
    "from sklearn.linear_model import LinearRegression\n",
    "\n",
    "# dropping some invalid values\n",
    "restaurant_data.dropna(subset=['Name', 'Location'], inplace=True)\n",
    "\n",
    "X = restaurant_data[['Name', 'Location']]\n",
    "y = restaurant_data['Rating']\n",
    "\n",
    "X = pd.get_dummies(X, drop_first=True)\n",
    "\n",
    "model = LinearRegression()\n",
    "model.fit(X, y)\n",
    "\n",
    "# Print coefficients\n",
    "print(\"Intercept:\", model.intercept_)\n",
    "print(\"Coefficients:\", model.coef_)\n"
   ]
  },
  {
   "cell_type": "markdown",
   "metadata": {},
   "source": [
    "Provide model output and an interpretation of the results. "
   ]
  },
  {
   "cell_type": "markdown",
   "metadata": {},
   "source": [
    "The coefficients for the restaurant names and locations indicate how much each restaurant or location contributes to the rating\n",
    "\n",
    "Positive coefficients indicate that the corresponding restaurant or location tends to have higher ratings compared to the reference category, while negative coefficients indicate lower ratings\n",
    "\n",
    "Other factors not included in the model could also influence restaurant ratings."
   ]
  },
  {
   "cell_type": "markdown",
   "metadata": {},
   "source": [
    "# Stretch"
   ]
  },
  {
   "cell_type": "markdown",
   "metadata": {},
   "source": [
    "How can you turn the regression model into a classification model?"
   ]
  },
  {
   "cell_type": "code",
   "execution_count": null,
   "metadata": {},
   "outputs": [],
   "source": [
    "\n"
   ]
  }
 ],
 "metadata": {
  "kernelspec": {
   "display_name": "Python 3",
   "language": "python",
   "name": "python3"
  },
  "language_info": {
   "codemirror_mode": {
    "name": "ipython",
    "version": 3
   },
   "file_extension": ".py",
   "mimetype": "text/x-python",
   "name": "python",
   "nbconvert_exporter": "python",
   "pygments_lexer": "ipython3",
   "version": "3.11.7"
  }
 },
 "nbformat": 4,
 "nbformat_minor": 4
}
