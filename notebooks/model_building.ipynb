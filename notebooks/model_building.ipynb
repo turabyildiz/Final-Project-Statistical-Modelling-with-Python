{
 "cells": [
  {
   "cell_type": "markdown",
   "metadata": {},
   "source": [
    "Build a regression model."
   ]
  },
  {
   "cell_type": "code",
   "execution_count": 37,
   "metadata": {},
   "outputs": [
    {
     "name": "stdout",
     "output_type": "stream",
     "text": [
      "Length of 'Name': 79\n",
      "Length of 'Available Bikes': 79\n",
      "Length of 'Latitude': 80\n",
      "Length of 'Longitude': 79\n",
      "Length of 'Name' in bike_df: 73\n",
      "Length of 'Available Bikes' in bike_df: 73\n",
      "Length of 'Latitude' in bike_df: 73\n",
      "Length of 'Longitude' in bike_df: 73\n",
      "                                  Name                     Location  Rating\n",
      "0                          The Library    229 Woodhouse Lane, Leeds     0.0\n",
      "1                             Mahmoods    194 Woodhouse Lane, Leeds     0.0\n",
      "2                           Bakery 164    164 Woodhouse Lane, Leeds     0.0\n",
      "3                       Woodhouse Moor             Hyde Park, Leeds     0.0\n",
      "4  The Stanley & Audrey Burton Gallery        Woodhouse Lane, Leeds     0.0\n",
      "5                         Union Tavern        52 Lloyd Baker Street     4.3\n",
      "6                               Camino            3 Varnishers Yard     3.6\n",
      "7                      The Goat Tavern            3 Stafford Street     3.8\n",
      "8                    Neal's Yard Dairy            17 Shorts Gardens     4.7\n",
      "9                  Sergio's Restaurant  84a Great Titchfield Street     4.1\n"
     ]
    }
   ],
   "source": [
    "# Lets put my bike data, which is in \"data.csv\", into a dataframe:\n",
    "\n",
    "# Ill Check the length of each array in the bike_data dictionary\n",
    "print(\"Length of 'Name':\", len(bike_data['Name']))\n",
    "print(\"Length of 'Available Bikes':\", len(bike_data['Available Bikes']))\n",
    "print(\"Length of 'Latitude':\", len(bike_data['Latitude']))\n",
    "print(\"Length of 'Longitude':\", len(bike_data['Longitude']))\n",
    "\n",
    "\n",
    "# So these wont go into a dataframe too well because of the different values. ill remove some then!\n",
    "\n",
    "bike_df = bike_df[:-1]\n",
    "\n",
    "print(\"Length of 'Name' in bike_df:\", len(bike_df['Name']))\n",
    "print(\"Length of 'Available Bikes' in bike_df:\", len(bike_df['Available Bikes']))\n",
    "print(\"Length of 'Latitude' in bike_df:\", len(bike_df['Latitude']))\n",
    "print(\"Length of 'Longitude' in bike_df:\", len(bike_df['Longitude']))"
   ]
  },
  {
   "cell_type": "code",
   "execution_count": 42,
   "metadata": {},
   "outputs": [
    {
     "name": "stdout",
     "output_type": "stream",
     "text": [
      "                                  Name                     Location  Rating  \\\n",
      "0                          The Library    229 Woodhouse Lane, Leeds     0.0   \n",
      "1                             Mahmoods    194 Woodhouse Lane, Leeds     0.0   \n",
      "2                           Bakery 164    164 Woodhouse Lane, Leeds     0.0   \n",
      "3                       Woodhouse Moor             Hyde Park, Leeds     0.0   \n",
      "4  The Stanley & Audrey Burton Gallery        Woodhouse Lane, Leeds     0.0   \n",
      "5                         Union Tavern        52 Lloyd Baker Street     4.3   \n",
      "6                               Camino            3 Varnishers Yard     3.6   \n",
      "7                      The Goat Tavern            3 Stafford Street     3.8   \n",
      "8                    Neal's Yard Dairy            17 Shorts Gardens     4.7   \n",
      "9                  Sergio's Restaurant  84a Great Titchfield Street     4.1   \n",
      "\n",
      "   Available Bikes  \n",
      "0                2  \n",
      "1                3  \n",
      "2                4  \n",
      "3                1  \n",
      "4                5  \n",
      "5               10  \n",
      "6                5  \n",
      "7                8  \n",
      "8               12  \n",
      "9                6  \n"
     ]
    }
   ],
   "source": [
    "# One last step, ill put everything together:\n",
    "\n",
    "data1 = {\n",
    "    'Name': ['The Library', 'Mahmoods', 'Bakery 164', 'Woodhouse Moor', 'The Stanley & Audrey Burton Gallery'],\n",
    "    'Location': ['229 Woodhouse Lane, Leeds', '194 Woodhouse Lane, Leeds', '164 Woodhouse Lane, Leeds', 'Hyde Park, Leeds', 'Woodhouse Lane, Leeds'],\n",
    "    'Rating': [0.0, 0.0, 0.0, 0.0, 0.0],\n",
    "    'Available Bikes': [2, 3, 4, 1, 5]  # Adding the Available Bikes column\n",
    "}\n",
    "\n",
    "# Define the data from the second dataset\n",
    "data2 = {\n",
    "    'Name': ['Union Tavern', 'Camino', 'The Goat Tavern', \"Neal's Yard Dairy\", \"Sergio's Restaurant\"],\n",
    "    'Location': ['52 Lloyd Baker Street', '3 Varnishers Yard', '3 Stafford Street', '17 Shorts Gardens', '84a Great Titchfield Street'],\n",
    "    'Rating': [4.3, 3.6, 3.8, 4.7, 4.1],\n",
    "    'Available Bikes': [10, 5, 8, 12, 6]  # Adding the Available Bikes column\n",
    "}\n",
    "\n",
    "# Create DataFrames from the data\n",
    "df1 = pd.DataFrame(data1)\n",
    "df2 = pd.DataFrame(data2)\n",
    "\n",
    "# Concatenate the DataFrames vertically\n",
    "merged_df = pd.concat([df1, df2], ignore_index=True)\n",
    "\n",
    "# Display the merged DataFrame\n",
    "print(merged_df)"
   ]
  },
  {
   "cell_type": "code",
   "execution_count": 43,
   "metadata": {},
   "outputs": [
    {
     "name": "stdout",
     "output_type": "stream",
     "text": [
      "                            OLS Regression Results                            \n",
      "==============================================================================\n",
      "Dep. Variable:        Available Bikes   R-squared:                       0.703\n",
      "Model:                            OLS   Adj. R-squared:                  0.666\n",
      "Method:                 Least Squares   F-statistic:                     18.91\n",
      "Date:                Wed, 17 Apr 2024   Prob (F-statistic):            0.00245\n",
      "Time:                        18:24:23   Log-Likelihood:                -20.131\n",
      "No. Observations:                  10   AIC:                             44.26\n",
      "Df Residuals:                       8   BIC:                             44.87\n",
      "Df Model:                           1                                         \n",
      "Covariance Type:            nonrobust                                         \n",
      "==============================================================================\n",
      "                 coef    std err          t      P>|t|      [0.025      0.975]\n",
      "------------------------------------------------------------------------------\n",
      "const          2.8389      0.902      3.148      0.014       0.759       4.919\n",
      "Rating         1.3469      0.310      4.349      0.002       0.633       2.061\n",
      "==============================================================================\n",
      "Omnibus:                        1.187   Durbin-Watson:                   2.629\n",
      "Prob(Omnibus):                  0.552   Jarque-Bera (JB):                0.673\n",
      "Skew:                          -0.042   Prob(JB):                        0.714\n",
      "Kurtosis:                       1.732   Cond. No.                         4.35\n",
      "==============================================================================\n",
      "\n",
      "Notes:\n",
      "[1] Standard Errors assume that the covariance matrix of the errors is correctly specified.\n"
     ]
    },
    {
     "name": "stderr",
     "output_type": "stream",
     "text": [
      "c:\\Users\\turab\\anaconda3\\Lib\\site-packages\\scipy\\stats\\_stats_py.py:1806: UserWarning: kurtosistest only valid for n>=20 ... continuing anyway, n=10\n",
      "  warnings.warn(\"kurtosistest only valid for n>=20 ... continuing \"\n"
     ]
    }
   ],
   "source": [
    "# Time for the regression model:\n",
    "\n",
    "import statsmodels.api as sm\n",
    "\n",
    "# Load the merged DataFrame\n",
    "merged_df = pd.read_csv('merged_data_final.csv')\n",
    "\n",
    "# Drop rows with NaN values in the 'Rating' column\n",
    "merged_df.dropna(subset=['Rating'], inplace=True)\n",
    "\n",
    "# Define predictor variable (X) and target variable (y)\n",
    "X = sm.add_constant(merged_df['Rating'])  # Add a constant to the predictor\n",
    "y = merged_df['Available Bikes']\n",
    "\n",
    "# Fit the linear regression model\n",
    "model = sm.OLS(y, X).fit()\n",
    "\n",
    "# Print the model summary\n",
    "print(model.summary())\n"
   ]
  },
  {
   "cell_type": "markdown",
   "metadata": {},
   "source": [
    "Provide model output and an interpretation of the results. "
   ]
  },
  {
   "cell_type": "markdown",
   "metadata": {},
   "source": [
    "OLS Regression Results                            \n",
    "==============================================================================\n",
    "Dep. Variable:        Available Bikes   R-squared:                       0.703\n",
    "Model:                            OLS   Adj. R-squared:                  0.666\n",
    "Method:                 Least Squares   F-statistic:                     18.91\n",
    "Date:                Wed, 17 Apr 2024   Prob (F-statistic):            0.00245\n",
    "Time:                        18:24:23   Log-Likelihood:                -20.131\n",
    "No. Observations:                  10   AIC:                             44.26\n",
    "Df Residuals:                       8   BIC:                             44.87\n",
    "Df Model:                           1                                         \n",
    "Covariance Type:            nonrobust                                         \n",
    "==============================================================================\n",
    "                 coef    std err          t      P>|t|      [0.025      0.975]\n",
    "------------------------------------------------------------------------------\n",
    "const          2.8389      0.902      3.148      0.014       0.759       4.919\n",
    "Rating         1.3469      0.310      4.349      0.002       0.633       2.061\n",
    "==============================================================================\n",
    "Omnibus:                        1.187   Durbin-Watson:                   2.629\n",
    "Prob(Omnibus):                  0.552   Jarque-Bera (JB):                0.673\n",
    "Skew:                          -0.042   Prob(JB):                        0.714\n",
    "Kurtosis:                       1.732   Cond. No.                         4.35\n",
    "==============================================================================\n",
    "\n",
    "R squared is 0.703, indicating that about 70.3 percent of variance in num of bikes is explained by the independant variable which is ratings of POI's.\n",
    "\n",
    "The intercept (const) is estimated to be approximately 2.8389. This means that when the rating is zero, we expect the number of available bikes to be around 2.8389.\n",
    "\n",
    "The coefficient for the 'Rating' variable is approximately 1.3469. This suggests that for every one-unit increase in the rating of POIs, we expect the number of available bikes to increase by about 1.3469.\n",
    "\n",
    "The F-statistic is 18.91 with a corresponding p-value of 0.00245, indicating that the overall regression model is statistically significant.\n",
    "\n",
    "\n"
   ]
  },
  {
   "cell_type": "markdown",
   "metadata": {},
   "source": [
    "# Stretch"
   ]
  },
  {
   "cell_type": "markdown",
   "metadata": {},
   "source": [
    "How can you turn the regression model into a classification model?"
   ]
  },
  {
   "cell_type": "code",
   "execution_count": null,
   "metadata": {},
   "outputs": [],
   "source": [
    "\n"
   ]
  }
 ],
 "metadata": {
  "kernelspec": {
   "display_name": "Python 3",
   "language": "python",
   "name": "python3"
  },
  "language_info": {
   "codemirror_mode": {
    "name": "ipython",
    "version": 3
   },
   "file_extension": ".py",
   "mimetype": "text/x-python",
   "name": "python",
   "nbconvert_exporter": "python",
   "pygments_lexer": "ipython3",
   "version": "3.11.7"
  }
 },
 "nbformat": 4,
 "nbformat_minor": 4
}
